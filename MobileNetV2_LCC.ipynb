{
 "cells": [
  {
   "cell_type": "code",
   "execution_count": 1,
   "metadata": {},
   "outputs": [],
   "source": [
    "import pandas as pd\n",
    "from pandas import DataFrame\n",
    "df=pd.read_csv(\"A1.csv\",names=['id','label'])\n",
    "df1_T=df[0:49]\n",
    "df1_V=df[49:74]\n",
    "training_set = pd.read_csv('A1.csv').values"
   ]
  },
  {
   "cell_type": "code",
   "execution_count": 9,
   "metadata": {},
   "outputs": [
    {
     "name": "stdout",
     "output_type": "stream",
     "text": [
      "Found 49 validated image filenames.\n",
      "Found 25 validated image filenames.\n"
     ]
    },
    {
     "name": "stderr",
     "output_type": "stream",
     "text": [
      "/usr/local/lib/python3.5/dist-packages/keras_preprocessing/image/dataframe_iterator.py:273: UserWarning: Found 79 invalid image filename(s) in x_col=\"id\". These filename(s) will be ignored.\n",
      "  .format(n_invalid, x_col)\n"
     ]
    }
   ],
   "source": [
    "from tensorflow.keras.preprocessing.image import ImageDataGenerator\n",
    "train_datagen = ImageDataGenerator(\n",
    "        rescale=1./255,\n",
    "        shear_range=0.2,\n",
    "        zoom_range=0.2,\n",
    "        horizontal_flip=True)\n",
    "train_generator = train_datagen.flow_from_dataframe(\n",
    "        dataframe=df,\n",
    "        directory='A1_LCC/A1_T',\n",
    "        x_col=\"id\",\n",
    "        y_col=\"label\",\n",
    "        shuffle=True,\n",
    "        target_size=(320, 320),\n",
    "        batch_size=6,\n",
    "        class_mode=\"raw\")\n",
    "valid_generator=train_datagen.flow_from_dataframe(\n",
    "                dataframe=df1_V,\n",
    "                directory='A1_LCC/A1_V',\n",
    "                x_col=\"id\",\n",
    "                y_col=\"label\",\n",
    "               \n",
    "                batch_size=32,\n",
    "                #seed=49,\n",
    "                shuffle=True,\n",
    "                class_mode=\"raw\",\n",
    "                target_size=(320,320))"
   ]
  },
  {
   "cell_type": "code",
   "execution_count": 21,
   "metadata": {},
   "outputs": [
    {
     "name": "stderr",
     "output_type": "stream",
     "text": [
      "/usr/local/lib/python3.5/dist-packages/keras_applications/mobilenet.py:207: UserWarning: `input_shape` is undefined or non-square, or `rows` is not in [128, 160, 192, 224]. Weights for input shape (224, 224) will be loaded as the default.\n",
      "  warnings.warn('`input_shape` is undefined or non-square, '\n"
     ]
    }
   ],
   "source": [
    "from keras.layers import Dense,GlobalAveragePooling2D\n",
    "from keras.applications import MobileNet\n",
    "from keras import regularizers\n",
    "base_model=MobileNet(input_shape=(320,320,3),weights='imagenet',include_top=False) #imports the mobilenet model and discards the last 1000 neuron layer.\n",
    "\n",
    "x=base_model.output\n",
    "x=GlobalAveragePooling2D()(x)\n",
    "x=Dense(1024,activation='relu')(x) #we add dense layers so that the model can learn more complex functions and classify for better results.\n",
    "x=Dense(1024,activation='relu')(x) #dense layer 2\n",
    "x=Dense(512,activation='relu')(x) #dense layer 3\n",
    "preds=Dense(1,activation='relu')(x) #final layer with softmax activation"
   ]
  },
  {
   "cell_type": "code",
   "execution_count": 22,
   "metadata": {},
   "outputs": [],
   "source": [
    "from keras.models import Model\n",
    "model=Model(inputs=base_model.input,outputs=preds)"
   ]
  },
  {
   "cell_type": "code",
   "execution_count": 23,
   "metadata": {},
   "outputs": [],
   "source": [
    "for layer in model.layers[:20]:\n",
    "    layer.trainable=False\n",
    "for layer in model.layers[20:]:\n",
    "    layer.trainable=True"
   ]
  },
  {
   "cell_type": "code",
   "execution_count": 24,
   "metadata": {},
   "outputs": [],
   "source": [
    "import keras\n",
    "from keras.callbacks import EarlyStopping\n",
    "csv_logger = keras.callbacks.CSVLogger('training.log', separator=',')\n",
    "early_stop = EarlyStopping(monitor='val_loss', min_delta=0.03, mode='min', patience=8)"
   ]
  },
  {
   "cell_type": "code",
   "execution_count": 25,
   "metadata": {},
   "outputs": [
    {
     "name": "stdout",
     "output_type": "stream",
     "text": [
      "Epoch 1/50\n",
      "8/8 [==============================] - 7s 885ms/step - loss: 80.4037 - accuracy: 0.1395 - val_loss: 41.6455 - val_accuracy: 0.0000e+00\n",
      "Epoch 2/50\n",
      "8/8 [==============================] - 2s 232ms/step - loss: 1.6720 - accuracy: 0.3488 - val_loss: 24.7717 - val_accuracy: 0.0000e+00\n",
      "Epoch 3/50\n",
      "8/8 [==============================] - 2s 241ms/step - loss: 4.2411 - accuracy: 0.1860 - val_loss: 11.9638 - val_accuracy: 0.0000e+00\n",
      "Epoch 4/50\n",
      "8/8 [==============================] - 2s 247ms/step - loss: 4.1628 - accuracy: 0.2791 - val_loss: 17.5951 - val_accuracy: 0.0000e+00\n",
      "Epoch 5/50\n",
      "8/8 [==============================] - 2s 266ms/step - loss: 1.9220 - accuracy: 0.2093 - val_loss: 2.8387 - val_accuracy: 0.2000\n",
      "Epoch 6/50\n",
      "8/8 [==============================] - 2s 237ms/step - loss: 5.7743 - accuracy: 0.0465 - val_loss: 6.2729 - val_accuracy: 0.0800\n",
      "Epoch 7/50\n",
      "8/8 [==============================] - 2s 266ms/step - loss: 2.8361 - accuracy: 0.2917 - val_loss: 1.7610 - val_accuracy: 0.3200\n",
      "Epoch 8/50\n",
      "8/8 [==============================] - 2s 256ms/step - loss: 7.2504 - accuracy: 0.1163 - val_loss: 0.9170 - val_accuracy: 0.4000\n",
      "Epoch 9/50\n",
      "8/8 [==============================] - 2s 238ms/step - loss: 3.3131 - accuracy: 0.2791 - val_loss: 8.0111 - val_accuracy: 0.0000e+00\n",
      "Epoch 10/50\n",
      "8/8 [==============================] - 2s 275ms/step - loss: 1.9920 - accuracy: 0.3125 - val_loss: 9.4884 - val_accuracy: 0.0000e+00\n",
      "Epoch 11/50\n",
      "8/8 [==============================] - 2s 249ms/step - loss: 7.7786 - accuracy: 0.1579 - val_loss: 7.1401 - val_accuracy: 0.0000e+00\n",
      "Epoch 12/50\n",
      "8/8 [==============================] - 2s 269ms/step - loss: 2.6510 - accuracy: 0.1667 - val_loss: 1.1951 - val_accuracy: 0.4400\n",
      "Epoch 13/50\n",
      "8/8 [==============================] - 2s 251ms/step - loss: 5.0380 - accuracy: 0.0930 - val_loss: 2.9880 - val_accuracy: 0.2000\n",
      "Epoch 14/50\n",
      "8/8 [==============================] - 2s 230ms/step - loss: 4.5014 - accuracy: 0.2895 - val_loss: 1.5144 - val_accuracy: 0.2800\n",
      "Epoch 15/50\n",
      "8/8 [==============================] - 2s 273ms/step - loss: 1.7148 - accuracy: 0.2500 - val_loss: 0.9050 - val_accuracy: 0.4800\n",
      "Epoch 16/50\n",
      "8/8 [==============================] - 2s 248ms/step - loss: 3.5715 - accuracy: 0.3256 - val_loss: 3.8947 - val_accuracy: 0.1200\n"
     ]
    },
    {
     "data": {
      "text/plain": [
       "<keras.callbacks.callbacks.History at 0x7f6fbd394fd0>"
      ]
     },
     "execution_count": 25,
     "metadata": {},
     "output_type": "execute_result"
    }
   ],
   "source": [
    "from keras.optimizers import RMSprop\n",
    "step_size_train=train_generator.n//train_generator.batch_size\n",
    "model.compile(optimizer = RMSprop(lr=0.0001), \n",
    "              loss = 'mse', \n",
    "              metrics = ['accuracy'])\n",
    "#model.fit_generator(generator=train_generator,\n",
    " #                  steps_per_epoch=step_size_train,\n",
    "  #                 epochs=50)\n",
    "step_size_train=train_generator.n//train_generator.batch_size\n",
    "step_size_valid=valid_generator.n//valid_generator.batch_size\n",
    "model.fit_generator(generator=train_generator,\n",
    "                    steps_per_epoch=step_size_train,\n",
    "                    validation_data=valid_generator,\n",
    "                    validation_steps=step_size_valid,\n",
    "                    #steps_per_epoch=1,\n",
    "                    epochs=50,\n",
    "                    callbacks= [csv_logger,early_stop])"
   ]
  },
  {
   "cell_type": "code",
   "execution_count": null,
   "metadata": {},
   "outputs": [],
   "source": []
  }
 ],
 "metadata": {
  "kernelspec": {
   "display_name": "Python 3",
   "language": "python",
   "name": "python3"
  },
  "language_info": {
   "codemirror_mode": {
    "name": "ipython",
    "version": 3
   },
   "file_extension": ".py",
   "mimetype": "text/x-python",
   "name": "python",
   "nbconvert_exporter": "python",
   "pygments_lexer": "ipython3",
   "version": "3.5.3"
  }
 },
 "nbformat": 4,
 "nbformat_minor": 4
}
