{
 "cells": [
  {
   "cell_type": "code",
   "execution_count": 1,
   "metadata": {},
   "outputs": [],
   "source": [
    "import pandas as pd\n",
    "from pandas import DataFrame\n",
    "df=pd.read_csv(\"A1.csv\",names=['id','label'])\n",
    "df1_T=df[0:49]\n",
    "df1_V=df[49:74]\n",
    "training_set = pd.read_csv('A1.csv').values\n",
    "#A=training_set[:,1]\n",
    "#Train_L=A[0:49]\n",
    "#print(df1_T)\n",
    "#print(df1_V)"
   ]
  },
  {
   "cell_type": "code",
   "execution_count": 10,
   "metadata": {},
   "outputs": [
    {
     "name": "stdout",
     "output_type": "stream",
     "text": [
      "Found 49 validated image filenames.\n",
      "Found 25 validated image filenames.\n"
     ]
    }
   ],
   "source": [
    "from tensorflow.keras.preprocessing.image import ImageDataGenerator\n",
    "train_datagen = ImageDataGenerator(\n",
    "        rescale=1./255,\n",
    "        shear_range=0.2,\n",
    "        zoom_range=0.2,\n",
    "        horizontal_flip=True)\n",
    "train_generator = train_datagen.flow_from_dataframe(\n",
    "        dataframe=df1_T,\n",
    "        directory='A1_LCC/A1_T',\n",
    "        x_col=\"id\",\n",
    "        y_col=\"label\",\n",
    "        shuffle=True,\n",
    "        target_size=(320, 320),\n",
    "        batch_size=6,\n",
    "        class_mode=\"raw\")\n",
    "valid_generator=train_datagen.flow_from_dataframe(\n",
    "                dataframe=df1_V,\n",
    "                directory='A1_LCC/A1_V',\n",
    "                x_col=\"id\",\n",
    "                y_col=\"label\",\n",
    "               \n",
    "                batch_size=6,\n",
    "                #seed=49,\n",
    "                shuffle=True,\n",
    "                class_mode=\"raw\",\n",
    "                target_size=(320,320))"
   ]
  },
  {
   "cell_type": "code",
   "execution_count": 3,
   "metadata": {},
   "outputs": [
    {
     "name": "stderr",
     "output_type": "stream",
     "text": [
      "Using TensorFlow backend.\n",
      "/usr/local/lib/python3.5/dist-packages/keras_applications/resnet50.py:265: UserWarning: The output shape of `ResNet50(include_top=False)` has been changed since Keras 2.2.0.\n",
      "  warnings.warn('The output shape of `ResNet50(include_top=False)` '\n"
     ]
    }
   ],
   "source": [
    "from keras.applications.resnet50 import ResNet50\n",
    "res_model = ResNet50(include_top=False,weights='imagenet',input_shape=(320,320,3))"
   ]
  },
  {
   "cell_type": "code",
   "execution_count": 4,
   "metadata": {},
   "outputs": [
    {
     "name": "stdout",
     "output_type": "stream",
     "text": [
      "Tensor(\"activation_49/Relu:0\", shape=(None, 10, 10, 2048), dtype=float32)\n"
     ]
    }
   ],
   "source": [
    "from keras import Model, layers\n",
    "from keras import regularizers\n",
    "from keras.optimizers import Adam\n",
    "#model=model.include_top=False\n",
    "#model.summary()\n",
    "#model=ResNet50()\n",
    "#model.summary()\n",
    "x = res_model.output\n",
    "print(x)\n",
    "x = layers.MaxPooling2D()(x)\n",
    "x = layers.Flatten(name='flatten')(x)\n",
    "x = layers.Dense(1024, activation='relu')(x)\n",
    "x = layers.Dense(512, activation='relu', activity_regularizer=regularizers.l2(0.2))(x)\n",
    "leaf_pred =layers. Dense(1)(x)\n",
    "model = Model(inputs = res_model.input, outputs = leaf_pred)\n",
    "model.compile(optimizer=Adam(lr=0.0001), loss= 'mse',metrics=['accuracy'])"
   ]
  },
  {
   "cell_type": "code",
   "execution_count": 5,
   "metadata": {},
   "outputs": [],
   "source": [
    "import keras\n",
    "from keras.callbacks import EarlyStopping\n",
    "csv_logger = keras.callbacks.CSVLogger('training.log', separator=',')\n",
    "early_stop = EarlyStopping(monitor='val_loss', min_delta=0.03, mode='min', patience=8)"
   ]
  },
  {
   "cell_type": "code",
   "execution_count": 12,
   "metadata": {},
   "outputs": [
    {
     "name": "stdout",
     "output_type": "stream",
     "text": [
      "Epoch 1/50\n",
      "8/8 [==============================] - 6s 768ms/step - loss: 251.0970 - accuracy: 0.0000e+00 - val_loss: 278.1227 - val_accuracy: 0.0000e+00\n",
      "Epoch 2/50\n",
      "8/8 [==============================] - 6s 766ms/step - loss: 239.9790 - accuracy: 0.0000e+00 - val_loss: 302.4931 - val_accuracy: 0.0000e+00\n",
      "Epoch 3/50\n",
      "8/8 [==============================] - 6s 754ms/step - loss: 257.3013 - accuracy: 0.0000e+00 - val_loss: 280.1821 - val_accuracy: 0.0000e+00\n",
      "Epoch 4/50\n",
      "8/8 [==============================] - 6s 743ms/step - loss: 265.8564 - accuracy: 0.0000e+00 - val_loss: 334.2436 - val_accuracy: 0.0000e+00\n",
      "Epoch 5/50\n",
      "8/8 [==============================] - 6s 761ms/step - loss: 245.2486 - accuracy: 0.0000e+00 - val_loss: 190.3346 - val_accuracy: 0.0000e+00\n",
      "Epoch 6/50\n",
      "8/8 [==============================] - 6s 725ms/step - loss: 256.9097 - accuracy: 0.0000e+00 - val_loss: 341.5477 - val_accuracy: 0.0000e+00\n",
      "Epoch 7/50\n",
      "8/8 [==============================] - 6s 775ms/step - loss: 245.3100 - accuracy: 0.0000e+00 - val_loss: 264.4853 - val_accuracy: 0.0000e+00\n",
      "Epoch 8/50\n",
      "8/8 [==============================] - 6s 765ms/step - loss: 277.8883 - accuracy: 0.0000e+00 - val_loss: 276.8506 - val_accuracy: 0.0000e+00\n",
      "Epoch 9/50\n",
      "8/8 [==============================] - 6s 742ms/step - loss: 252.1846 - accuracy: 0.0000e+00 - val_loss: 320.3000 - val_accuracy: 0.0000e+00\n",
      "Epoch 10/50\n",
      "8/8 [==============================] - 6s 710ms/step - loss: 262.9055 - accuracy: 0.0000e+00 - val_loss: 322.9670 - val_accuracy: 0.0000e+00\n",
      "Epoch 11/50\n",
      "8/8 [==============================] - 6s 726ms/step - loss: 257.1032 - accuracy: 0.0000e+00 - val_loss: 249.3594 - val_accuracy: 0.0000e+00\n",
      "Epoch 12/50\n",
      "8/8 [==============================] - 7s 820ms/step - loss: 258.6696 - accuracy: 0.0000e+00 - val_loss: 273.9914 - val_accuracy: 0.0000e+00\n",
      "Epoch 13/50\n",
      "8/8 [==============================] - 6s 750ms/step - loss: 281.3110 - accuracy: 0.0000e+00 - val_loss: 273.9621 - val_accuracy: 0.0000e+00\n"
     ]
    },
    {
     "data": {
      "text/plain": [
       "<keras.callbacks.callbacks.History at 0x7f86e92e2908>"
      ]
     },
     "execution_count": 12,
     "metadata": {},
     "output_type": "execute_result"
    }
   ],
   "source": [
    "step_size_train=train_generator.n//train_generator.batch_size\n",
    "step_size_valid=valid_generator.n//valid_generator.batch_size\n",
    "model.fit_generator(generator=train_generator,\n",
    "                    steps_per_epoch=step_size_train,\n",
    "                    validation_data=valid_generator,\n",
    "                    validation_steps=step_size_valid,\n",
    "                    #steps_per_epoch=1,\n",
    "                    epochs=50,\n",
    "                    callbacks= [csv_logger,early_stop])"
   ]
  },
  {
   "cell_type": "code",
   "execution_count": null,
   "metadata": {},
   "outputs": [],
   "source": []
  }
 ],
 "metadata": {
  "kernelspec": {
   "display_name": "Python 3",
   "language": "python",
   "name": "python3"
  },
  "language_info": {
   "codemirror_mode": {
    "name": "ipython",
    "version": 3
   },
   "file_extension": ".py",
   "mimetype": "text/x-python",
   "name": "python",
   "nbconvert_exporter": "python",
   "pygments_lexer": "ipython3",
   "version": "3.5.3"
  }
 },
 "nbformat": 4,
 "nbformat_minor": 4
}
