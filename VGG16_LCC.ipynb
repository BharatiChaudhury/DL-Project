{
 "cells": [
  {
   "cell_type": "code",
   "execution_count": 41,
   "metadata": {},
   "outputs": [],
   "source": [
    "from keras.applications.vgg16 import VGG16\n",
    "model = VGG16(weights='imagenet', include_top=False,input_shape=(320,320,3))\n"
   ]
  },
  {
   "cell_type": "code",
   "execution_count": 42,
   "metadata": {},
   "outputs": [],
   "source": [
    "#model.summary()\n"
   ]
  },
  {
   "cell_type": "code",
   "execution_count": 32,
   "metadata": {},
   "outputs": [],
   "source": [
    "from keras import layers\n",
    "from keras import Model\n",
    "x=model.output\n",
    "x = layers.Flatten(name='flatten')(x)\n",
    "x = layers.Dense(1024, activation='relu')(x)\n",
    "x = layers.Dense(512, activation='relu')(x)\n",
    "leaf_pred =layers. Dense(1)(x)\n",
    "model = Model(inputs = model.input, outputs = leaf_pred)\n",
    "# this is the model we will train\n",
    "#model = Model(inputs=model.input, outputs=leaf_pred)"
   ]
  },
  {
   "cell_type": "code",
   "execution_count": 35,
   "metadata": {},
   "outputs": [],
   "source": [
    "from keras.optimizers import Adam\n",
    "model.compile(optimizer=Adam(lr=0.0001), loss= 'mse',metrics=['accuracy'])"
   ]
  },
  {
   "cell_type": "code",
   "execution_count": 36,
   "metadata": {},
   "outputs": [],
   "source": [
    "import pandas as pd\n",
    "from pandas import DataFrame\n",
    "df=pd.read_csv(\"A1.csv\",names=['id','label'])\n",
    "df1_T=df[0:49]\n",
    "df1_V=df[49:74]\n",
    "training_set = pd.read_csv('A1.csv').values"
   ]
  },
  {
   "cell_type": "code",
   "execution_count": 37,
   "metadata": {},
   "outputs": [
    {
     "name": "stdout",
     "output_type": "stream",
     "text": [
      "Found 49 validated image filenames.\n",
      "Found 25 validated image filenames.\n"
     ]
    }
   ],
   "source": [
    "from tensorflow.keras.preprocessing.image import ImageDataGenerator\n",
    "train_datagen = ImageDataGenerator(\n",
    "        rescale=1./255,\n",
    "        shear_range=0.2,\n",
    "        zoom_range=0.2,\n",
    "        horizontal_flip=True)\n",
    "train_generator = train_datagen.flow_from_dataframe(\n",
    "        dataframe=df1_T,\n",
    "        directory='A1_LCC/A1_T',\n",
    "        x_col=\"id\",\n",
    "        y_col=\"label\",\n",
    "        shuffle=True,\n",
    "        target_size=(320, 320),\n",
    "        batch_size=6,\n",
    "        class_mode=\"raw\")\n",
    "valid_generator=train_datagen.flow_from_dataframe(\n",
    "                dataframe=df1_V,\n",
    "                directory='A1_LCC/A1_V',\n",
    "                x_col=\"id\",\n",
    "                y_col=\"label\",\n",
    "               \n",
    "                batch_size=6,\n",
    "                #seed=49,\n",
    "                shuffle=True,\n",
    "                class_mode=\"raw\",\n",
    "                target_size=(320,320))"
   ]
  },
  {
   "cell_type": "code",
   "execution_count": 38,
   "metadata": {},
   "outputs": [],
   "source": [
    "import keras\n",
    "from keras.callbacks import EarlyStopping\n",
    "csv_logger = keras.callbacks.CSVLogger('training.log', separator=',')\n",
    "early_stop = EarlyStopping(monitor='val_loss', min_delta=0.03, mode='min', patience=8)"
   ]
  },
  {
   "cell_type": "code",
   "execution_count": 40,
   "metadata": {},
   "outputs": [
    {
     "name": "stdout",
     "output_type": "stream",
     "text": [
      "Epoch 1/50\n",
      "8/8 [==============================] - 5s 635ms/step - loss: 1.3305 - accuracy: 0.2791 - val_loss: 2.8531 - val_accuracy: 0.2500\n",
      "Epoch 2/50\n",
      "8/8 [==============================] - 5s 628ms/step - loss: 0.7127 - accuracy: 0.4419 - val_loss: 5.7325 - val_accuracy: 0.1053\n",
      "Epoch 3/50\n",
      "8/8 [==============================] - 5s 610ms/step - loss: 0.7813 - accuracy: 0.3721 - val_loss: 1.8616 - val_accuracy: 0.0526\n",
      "Epoch 4/50\n",
      "8/8 [==============================] - 5s 648ms/step - loss: 0.8544 - accuracy: 0.5000 - val_loss: 0.8038 - val_accuracy: 0.2632\n",
      "Epoch 5/50\n",
      "8/8 [==============================] - 4s 528ms/step - loss: 0.6071 - accuracy: 0.3947 - val_loss: 6.1835 - val_accuracy: 0.1053\n",
      "Epoch 6/50\n",
      "8/8 [==============================] - 5s 638ms/step - loss: 0.8010 - accuracy: 0.3750 - val_loss: 4.5762 - val_accuracy: 0.1250\n",
      "Epoch 7/50\n",
      "8/8 [==============================] - 5s 585ms/step - loss: 0.7319 - accuracy: 0.3684 - val_loss: 2.0464 - val_accuracy: 0.1579\n",
      "Epoch 8/50\n",
      "8/8 [==============================] - 5s 663ms/step - loss: 0.7172 - accuracy: 0.3958 - val_loss: 1.0160 - val_accuracy: 0.3158\n",
      "Epoch 9/50\n",
      "8/8 [==============================] - 5s 603ms/step - loss: 1.2164 - accuracy: 0.3721 - val_loss: 1.6942 - val_accuracy: 0.2105\n",
      "Epoch 10/50\n",
      "8/8 [==============================] - 5s 575ms/step - loss: 0.9651 - accuracy: 0.3488 - val_loss: 0.0490 - val_accuracy: 0.3684\n",
      "Epoch 11/50\n",
      "8/8 [==============================] - 5s 595ms/step - loss: 0.6762 - accuracy: 0.4884 - val_loss: 0.4428 - val_accuracy: 0.5000\n",
      "Epoch 12/50\n",
      "8/8 [==============================] - 5s 671ms/step - loss: 0.6509 - accuracy: 0.5208 - val_loss: 1.6887 - val_accuracy: 0.2632\n",
      "Epoch 13/50\n",
      "8/8 [==============================] - 5s 635ms/step - loss: 0.6054 - accuracy: 0.4186 - val_loss: 0.2365 - val_accuracy: 0.4211\n",
      "Epoch 14/50\n",
      "8/8 [==============================] - 5s 575ms/step - loss: 0.5411 - accuracy: 0.4211 - val_loss: 2.3917 - val_accuracy: 0.2105\n",
      "Epoch 15/50\n",
      "8/8 [==============================] - 5s 574ms/step - loss: 0.5771 - accuracy: 0.5349 - val_loss: 2.3845 - val_accuracy: 0.1053\n",
      "Epoch 16/50\n",
      "8/8 [==============================] - 5s 593ms/step - loss: 0.4323 - accuracy: 0.6512 - val_loss: 1.6470 - val_accuracy: 0.2083\n",
      "Epoch 17/50\n",
      "8/8 [==============================] - 5s 683ms/step - loss: 0.5441 - accuracy: 0.4167 - val_loss: 1.1547 - val_accuracy: 0.2632\n",
      "Epoch 18/50\n",
      "8/8 [==============================] - 5s 618ms/step - loss: 1.0128 - accuracy: 0.5349 - val_loss: 0.6214 - val_accuracy: 0.3684\n"
     ]
    },
    {
     "data": {
      "text/plain": [
       "<keras.callbacks.callbacks.History at 0x7fcc6814a4e0>"
      ]
     },
     "execution_count": 40,
     "metadata": {},
     "output_type": "execute_result"
    }
   ],
   "source": [
    "step_size_train=train_generator.n//train_generator.batch_size\n",
    "step_size_valid=valid_generator.n//valid_generator.batch_size\n",
    "model.fit_generator(generator=train_generator,\n",
    "                    steps_per_epoch=step_size_train,\n",
    "                    validation_data=valid_generator,\n",
    "                    validation_steps=step_size_valid,\n",
    "                    #steps_per_epoch=1,\n",
    "                    epochs=50,\n",
    "                    callbacks= [csv_logger,early_stop])"
   ]
  },
  {
   "cell_type": "code",
   "execution_count": null,
   "metadata": {},
   "outputs": [],
   "source": []
  }
 ],
 "metadata": {
  "kernelspec": {
   "display_name": "Python 3",
   "language": "python",
   "name": "python3"
  },
  "language_info": {
   "codemirror_mode": {
    "name": "ipython",
    "version": 3
   },
   "file_extension": ".py",
   "mimetype": "text/x-python",
   "name": "python",
   "nbconvert_exporter": "python",
   "pygments_lexer": "ipython3",
   "version": "3.5.3"
  }
 },
 "nbformat": 4,
 "nbformat_minor": 4
}
